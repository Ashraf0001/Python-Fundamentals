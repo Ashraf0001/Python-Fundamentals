{
 "cells": [
  {
   "cell_type": "code",
   "execution_count": 2,
   "id": "f58e78c9",
   "metadata": {},
   "outputs": [
    {
     "name": "stdout",
     "output_type": "stream",
     "text": [
      "[[9 6 7 7 4]\n",
      " [5 4 9 7 5]\n",
      " [5 7 4 6 7]]\n"
     ]
    }
   ],
   "source": [
    "import numpy as np\n",
    "\n",
    "array = np.random.randint(0,10,(3,5))\n",
    "print(array)"
   ]
  },
  {
   "cell_type": "code",
   "execution_count": 3,
   "id": "e50acf95",
   "metadata": {},
   "outputs": [
    {
     "name": "stdout",
     "output_type": "stream",
     "text": [
      "9 0\n"
     ]
    }
   ],
   "source": [
    "print(np.max(array), np.argmax(array))"
   ]
  },
  {
   "cell_type": "code",
   "execution_count": 5,
   "id": "a99adae5",
   "metadata": {},
   "outputs": [
    {
     "name": "stdout",
     "output_type": "stream",
     "text": [
      "[9 7 9 7 7] [0 2 1 0 2]\n"
     ]
    }
   ],
   "source": [
    "print(np.max(array,axis =0), np.argmax(array, axis =0))"
   ]
  },
  {
   "cell_type": "code",
   "execution_count": 6,
   "id": "89acf293",
   "metadata": {},
   "outputs": [
    {
     "name": "stdout",
     "output_type": "stream",
     "text": [
      "[9 9 7] [0 2 1]\n"
     ]
    }
   ],
   "source": [
    "print(np.max(array, axis = 1), np.argmax(array, axis =1))"
   ]
  },
  {
   "cell_type": "code",
   "execution_count": 7,
   "id": "2a71d0f9",
   "metadata": {},
   "outputs": [
    {
     "name": "stdout",
     "output_type": "stream",
     "text": [
      "[[40 19 39 15 35]\n",
      " [27 12 21 36 41]\n",
      " [ 9 28 26 37 46]\n",
      " [43 36 30  8 33]\n",
      " [18 30 25  7  8]]\n"
     ]
    }
   ],
   "source": [
    "array_ashraf = np.random.randint(7,52,(5,5))\n",
    "print(array_ashraf)"
   ]
  },
  {
   "cell_type": "code",
   "execution_count": 9,
   "id": "e7691004",
   "metadata": {},
   "outputs": [
    {
     "name": "stdout",
     "output_type": "stream",
     "text": [
      "46 14\n"
     ]
    }
   ],
   "source": [
    "print(np.max(array_ashraf), np.argmax(array_ashraf))"
   ]
  },
  {
   "cell_type": "code",
   "execution_count": 10,
   "id": "21ef1962",
   "metadata": {},
   "outputs": [
    {
     "name": "stdout",
     "output_type": "stream",
     "text": [
      "7 23\n"
     ]
    }
   ],
   "source": [
    "print(np.min(array_ashraf), np.argmin(array_ashraf))"
   ]
  },
  {
   "cell_type": "code",
   "execution_count": null,
   "id": "966d0730",
   "metadata": {},
   "outputs": [],
   "source": []
  }
 ],
 "metadata": {
  "kernelspec": {
   "display_name": "Python 3 (ipykernel)",
   "language": "python",
   "name": "python3"
  },
  "language_info": {
   "codemirror_mode": {
    "name": "ipython",
    "version": 3
   },
   "file_extension": ".py",
   "mimetype": "text/x-python",
   "name": "python",
   "nbconvert_exporter": "python",
   "pygments_lexer": "ipython3",
   "version": "3.9.7"
  }
 },
 "nbformat": 4,
 "nbformat_minor": 5
}
