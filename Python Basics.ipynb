{
 "cells": [
  {
   "cell_type": "code",
   "execution_count": 1,
   "metadata": {},
   "outputs": [
    {
     "name": "stdout",
     "output_type": "stream",
     "text": [
      "hello world\n"
     ]
    }
   ],
   "source": [
    "print (\"hello world\")"
   ]
  },
  {
   "cell_type": "code",
   "execution_count": 2,
   "metadata": {},
   "outputs": [
    {
     "name": "stdout",
     "output_type": "stream",
     "text": [
      "Ashraf Siddik Faysal\n"
     ]
    }
   ],
   "source": [
    "print (\"Ashraf Siddik Faysal\")"
   ]
  },
  {
   "cell_type": "code",
   "execution_count": 3,
   "metadata": {},
   "outputs": [
    {
     "name": "stdout",
     "output_type": "stream",
     "text": [
      "1 1 1\n"
     ]
    }
   ],
   "source": [
    "print(\"1\",1,1)"
   ]
  },
  {
   "cell_type": "code",
   "execution_count": 4,
   "metadata": {},
   "outputs": [
    {
     "name": "stdout",
     "output_type": "stream",
     "text": [
      "this is a string \n"
     ]
    }
   ],
   "source": [
    "print (\"this is a string \")"
   ]
  },
  {
   "cell_type": "markdown",
   "metadata": {},
   "source": [
    "Data Types\n",
    "Since python is an intrepreted language , Variables can be assigned without specifying their types.\n"
   ]
  },
  {
   "cell_type": "code",
   "execution_count": 10,
   "metadata": {},
   "outputs": [
    {
     "name": "stdout",
     "output_type": "stream",
     "text": [
      "45\n"
     ]
    }
   ],
   "source": [
    "a=45  #INTEGER\n",
    "b=5.5858   #DOUBLE PRECISION FLOAT\n",
    "c= 'this is a string'  # String\n",
    "d=False     #boolean\n",
    "e=a>b       #Boolean \n",
    "\n",
    "print (a)"
   ]
  },
  {
   "cell_type": "code",
   "execution_count": 11,
   "metadata": {},
   "outputs": [
    {
     "name": "stdout",
     "output_type": "stream",
     "text": [
      "<class 'int'>\n"
     ]
    }
   ],
   "source": [
    "print(type (a))"
   ]
  },
  {
   "cell_type": "code",
   "execution_count": 12,
   "metadata": {},
   "outputs": [
    {
     "name": "stdout",
     "output_type": "stream",
     "text": [
      "Value of a is 45 , Type of a is: <class 'int'>\n",
      "Value of b is 5.5858 , Type of b is: <class 'float'>\n",
      "Value of c is this is a string , Type of c is: <class 'str'>\n",
      "Value of d is False , Type of d is: <class 'bool'>\n",
      "Value of e is True , Type of e is: <class 'bool'>\n"
     ]
    }
   ],
   "source": [
    "\n",
    "print('Value of a is', a,', Type of a is:', type(a))\n",
    "print('Value of b is', b,', Type of b is:', type(b))\n",
    "print('Value of c is', c,', Type of c is:', type(c))\n",
    "print('Value of d is', d,', Type of d is:', type(d))\n",
    "print('Value of e is', e,', Type of e is:', type(e))"
   ]
  },
  {
   "cell_type": "markdown",
   "metadata": {},
   "source": [
    "# Assignment Statement And Operators"
   ]
  },
  {
   "cell_type": "markdown",
   "metadata": {},
   "source": [
    "## The assignment can be done for a single variable, or for a tuple of variables separated by commas:"
   ]
  },
  {
   "cell_type": "code",
   "execution_count": 13,
   "metadata": {},
   "outputs": [],
   "source": [
    "m = 5 + 7\n",
    "\n",
    "x, y = 10, 20\n",
    "\n",
    "a, b, c, d = 5, 'Text', None, x==y"
   ]
  },
  {
   "cell_type": "code",
   "execution_count": 14,
   "metadata": {},
   "outputs": [
    {
     "name": "stdout",
     "output_type": "stream",
     "text": [
      "Text\n"
     ]
    }
   ],
   "source": [
    "print (b)"
   ]
  },
  {
   "cell_type": "code",
   "execution_count": 15,
   "metadata": {},
   "outputs": [
    {
     "name": "stdout",
     "output_type": "stream",
     "text": [
      "<class 'NoneType'>\n"
     ]
    }
   ],
   "source": [
    "print (type (c))"
   ]
  },
  {
   "cell_type": "code",
   "execution_count": 16,
   "metadata": {},
   "outputs": [
    {
     "name": "stdout",
     "output_type": "stream",
     "text": [
      "<class 'bool'>\n"
     ]
    }
   ],
   "source": [
    "print (type(d))"
   ]
  },
  {
   "cell_type": "code",
   "execution_count": 17,
   "metadata": {},
   "outputs": [
    {
     "name": "stdout",
     "output_type": "stream",
     "text": [
      "False\n"
     ]
    }
   ],
   "source": [
    "print (d)"
   ]
  },
  {
   "cell_type": "markdown",
   "metadata": {},
   "source": [
    "# Operators \n",
    "### Most useful operators are shown below"
   ]
  },
  {
   "cell_type": "markdown",
   "metadata": {},
   "source": [
    "+ , - , * , ** , / , // , %\n",
    "== , != , <> , > , >= , < , <=\n",
    "and , or , not\n"
   ]
  },
  {
   "cell_type": "code",
   "execution_count": 2,
   "metadata": {},
   "outputs": [
    {
     "name": "stdout",
     "output_type": "stream",
     "text": [
      "9 <class 'int'>\n"
     ]
    }
   ],
   "source": [
    "x = 4+5\n",
    "print (x, type (x))"
   ]
  },
  {
   "cell_type": "markdown",
   "metadata": {},
   "source": [
    "python three handle integer division , notice how integer division is handled by either an integer or a float "
   ]
  },
  {
   "cell_type": "code",
   "execution_count": 5,
   "metadata": {},
   "outputs": [
    {
     "name": "stdout",
     "output_type": "stream",
     "text": [
      "3.6\n",
      "3.3333333333333335\n"
     ]
    }
   ],
   "source": [
    "\n",
    "print(9/2.5)\n",
    "print (10/3)"
   ]
  },
  {
   "cell_type": "markdown",
   "metadata": {},
   "source": [
    "# Strings\n",
    "\n",
    "A string in python can be sorrounded by either single or double quotes (no difference as long as they match ). Three double quotes allow to print new lines directly.\n"
   ]
  },
  {
   "cell_type": "code",
   "execution_count": 6,
   "metadata": {},
   "outputs": [],
   "source": [
    "a = 'abc'\n",
    "b= \"def\"\n",
    "c= \"\"\"aaa\n",
    "bbb\n",
    "ccc\"\"\"\n",
    "d= \"xxx'yyy\"\n",
    "e='mmm\"nnn'\n",
    "f= \"aaa\\nbbb\\nccc\""
   ]
  },
  {
   "cell_type": "code",
   "execution_count": 7,
   "metadata": {},
   "outputs": [
    {
     "name": "stdout",
     "output_type": "stream",
     "text": [
      "abc def aaa\n",
      "bbb\n",
      "ccc xxx'yyy mmm\"nnn aaa\n",
      "bbb\n",
      "ccc\n"
     ]
    }
   ],
   "source": [
    "print (a,b,c,d,e,f)"
   ]
  },
  {
   "cell_type": "code",
   "execution_count": 8,
   "metadata": {},
   "outputs": [
    {
     "name": "stdout",
     "output_type": "stream",
     "text": [
      "abc\n",
      "def\n",
      "aaa\n",
      "bbb\n",
      "ccc\n",
      "xxx'yyy\n",
      "mmm\"nnn\n",
      "aaa\n",
      "bbb\n",
      "ccc\n"
     ]
    }
   ],
   "source": [
    "print (a)\n",
    "print(b)\n",
    "print(c)\n",
    "print(d)\n",
    "print(e)\n",
    "print(f)"
   ]
  },
  {
   "cell_type": "markdown",
   "metadata": {},
   "source": [
    "# Lists\n",
    "Python knows a number of compound data types, used to group together other values. The most versatile is the list , which can be written as a list of comma separated values between squares brackets[] \n",
    "### Note: list items need not all to have the same type."
   ]
  },
  {
   "cell_type": "code",
   "execution_count": 9,
   "metadata": {},
   "outputs": [
    {
     "name": "stdout",
     "output_type": "stream",
     "text": [
      "['ashraf', 'rehan', 'faysal', 100, 103.5, False]\n"
     ]
    }
   ],
   "source": [
    "a= ['ashraf', 'rehan', 'faysal', 100,103.5, False ]\n",
    "print (a)"
   ]
  },
  {
   "cell_type": "code",
   "execution_count": 11,
   "metadata": {},
   "outputs": [
    {
     "name": "stdout",
     "output_type": "stream",
     "text": [
      "<class 'list'>\n"
     ]
    }
   ],
   "source": [
    "print (type(a))"
   ]
  },
  {
   "cell_type": "code",
   "execution_count": 12,
   "metadata": {},
   "outputs": [
    {
     "data": {
      "text/plain": [
       "6"
      ]
     },
     "execution_count": 12,
     "metadata": {},
     "output_type": "execute_result"
    }
   ],
   "source": [
    "len (a)"
   ]
  },
  {
   "cell_type": "code",
   "execution_count": 14,
   "metadata": {},
   "outputs": [
    {
     "name": "stdout",
     "output_type": "stream",
     "text": [
      "Length of the list :  6\n",
      "Lenght of the word ashraf : 6\n"
     ]
    }
   ],
   "source": [
    "print ( \"Length of the list : \",len(a))\n",
    "print ( \"Lenght of the word ashraf :\", len ('ashraf'))"
   ]
  },
  {
   "cell_type": "markdown",
   "metadata": {},
   "source": [
    "To access the elements of the list, indexing and slicing can be used.\n",
    "\n",
    "As in C, indices start at 0, so a[0] is the first element of the list, a[3] is its fourth element.\n",
    "\n",
    "Negative indices start from the end of the list, so a[-1] is the last element, a[-2] the last but one, etc.\n",
    "\n",
    "Slices return a list containing a subset of elements, with the form a[start:stop], stop being excluded. a[1:3] returns the second and third elements. WHen omitted, start is 0 (a[:2] returns the two first elements) and stop is the length of the list (a[1:] has all elements of a except the first one)."
   ]
  },
  {
   "cell_type": "code",
   "execution_count": 18,
   "metadata": {},
   "outputs": [
    {
     "name": "stdout",
     "output_type": "stream",
     "text": [
      "['ashraf', 'rehan', 'faysal', 100, 103.5, False]\n",
      "ashraf\n",
      "False\n",
      "['rehan', 'faysal']\n"
     ]
    }
   ],
   "source": [
    "print (a)\n",
    "print (a[0])\n",
    "print (a[-1])\n",
    "print (a[1:3])\n",
    "##print a[-2]\n",
    "##print (a[:3])"
   ]
  },
  {
   "cell_type": "markdown",
   "metadata": {},
   "source": [
    "Copying lists can cause some probelems"
   ]
  },
  {
   "cell_type": "code",
   "execution_count": 20,
   "metadata": {},
   "outputs": [
    {
     "name": "stdout",
     "output_type": "stream",
     "text": [
      "[9, 6, 5]\n",
      "[9, 6, 5]\n"
     ]
    }
   ],
   "source": [
    "a = [2,6,5] #Intial test \n",
    "b=a         #Copy list by reference \n",
    "a[0]= 9     #change one item in the list \n",
    "\n",
    "print (a)\n",
    "print (b)\n"
   ]
  },
  {
   "cell_type": "markdown",
   "metadata": {},
   "source": [
    "A: B = A does not make a copy of the content of A, but of its reference (pointer). So a and b both points at the same object.\n",
    "\n",
    "The solution is to use the built-in copy() method of lists:"
   ]
  },
  {
   "cell_type": "code",
   "execution_count": 21,
   "metadata": {},
   "outputs": [
    {
     "name": "stdout",
     "output_type": "stream",
     "text": [
      "[8, 4, 5]\n",
      "[3, 4, 5]\n"
     ]
    }
   ],
   "source": [
    "a = [3,4,5]\n",
    "b= a.copy()\n",
    "a[0]= 8\n",
    "\n",
    "print (a)\n",
    "print (b)"
   ]
  },
  {
   "cell_type": "code",
   "execution_count": 22,
   "metadata": {},
   "outputs": [
    {
     "name": "stdout",
     "output_type": "stream",
     "text": [
      "[7, 4, 5]\n"
     ]
    }
   ],
   "source": [
    "b[0]= 7\n",
    "print(b)"
   ]
  },
  {
   "cell_type": "code",
   "execution_count": 28,
   "metadata": {},
   "outputs": [
    {
     "data": {
      "text/plain": [
       "0"
      ]
     },
     "execution_count": 28,
     "metadata": {},
     "output_type": "execute_result"
    }
   ],
   "source": [
    "a. count(3)"
   ]
  },
  {
   "cell_type": "code",
   "execution_count": 29,
   "metadata": {},
   "outputs": [
    {
     "data": {
      "text/plain": [
       "2"
      ]
     },
     "execution_count": 29,
     "metadata": {},
     "output_type": "execute_result"
    }
   ],
   "source": [
    "a.index(5)"
   ]
  },
  {
   "cell_type": "code",
   "execution_count": 30,
   "metadata": {},
   "outputs": [],
   "source": [
    "a.sort()"
   ]
  },
  {
   "cell_type": "code",
   "execution_count": 31,
   "metadata": {},
   "outputs": [
    {
     "name": "stdout",
     "output_type": "stream",
     "text": [
      "[4, 5, 8]\n"
     ]
    }
   ],
   "source": [
    "print (a)"
   ]
  },
  {
   "cell_type": "code",
   "execution_count": 32,
   "metadata": {},
   "outputs": [],
   "source": [
    "a.remove (5)"
   ]
  },
  {
   "cell_type": "code",
   "execution_count": 33,
   "metadata": {},
   "outputs": [
    {
     "name": "stdout",
     "output_type": "stream",
     "text": [
      "[4, 8]\n"
     ]
    }
   ],
   "source": [
    "print(a)"
   ]
  },
  {
   "cell_type": "code",
   "execution_count": 34,
   "metadata": {},
   "outputs": [
    {
     "name": "stdout",
     "output_type": "stream",
     "text": [
      "[4, 8, 1]\n"
     ]
    }
   ],
   "source": [
    "a.insert(3, 1)\n",
    "print (a)"
   ]
  },
  {
   "cell_type": "markdown",
   "metadata": {},
   "source": [
    "a.remove(x) will remove the first itme at the given position in the list and return it.\n",
    "\n",
    "a.pop(i) will remove the item from the list whose value is x.\n"
   ]
  },
  {
   "cell_type": "code",
   "execution_count": 36,
   "metadata": {},
   "outputs": [
    {
     "name": "stdout",
     "output_type": "stream",
     "text": [
      "[5, 8, 7, 4, 5]\n"
     ]
    }
   ],
   "source": [
    "array= [4,5,8,7,7,4,5]\n",
    "array.remove(4)\n",
    "array.remove (7)\n",
    "print(array)"
   ]
  },
  {
   "cell_type": "code",
   "execution_count": 37,
   "metadata": {},
   "outputs": [
    {
     "name": "stdout",
     "output_type": "stream",
     "text": [
      "[5, 8, 4, 5]\n"
     ]
    }
   ],
   "source": [
    "array.pop(2)\n",
    "print (array)"
   ]
  },
  {
   "cell_type": "markdown",
   "metadata": {},
   "source": [
    "# Dictionaries\n",
    "\n",
    "useful data types built into python and unlike to lists, which are indexed by a range of number from 0 to length -1. Dictonaries are indexed by keys which can be any immutable types string and numbers can be keys.\n",
    "\n",
    "Dictionaries can be defined by curly braces {} instead of square brakets. the content is defined by key: item pairs , the item can be any type."
   ]
  },
  {
   "cell_type": "code",
   "execution_count": 40,
   "metadata": {},
   "outputs": [],
   "source": [
    "ash ={\n",
    "    \n",
    "    'fay': 4098,\n",
    "    'shape': 4198,\n",
    "    'habib': 114,\n",
    "    'jahed': 128,\n",
    "    'farzana': 124\n",
    "}\n",
    "\n",
    "\n"
   ]
  },
  {
   "cell_type": "code",
   "execution_count": 41,
   "metadata": {},
   "outputs": [
    {
     "name": "stdout",
     "output_type": "stream",
     "text": [
      "{'jack ': 4098, 'shape': 4198, 'habib': 114, 'jahed': 128, 'farzana': 124}\n"
     ]
    }
   ],
   "source": [
    "print (ash)"
   ]
  },
  {
   "cell_type": "code",
   "execution_count": 43,
   "metadata": {},
   "outputs": [
    {
     "name": "stdout",
     "output_type": "stream",
     "text": [
      "128\n"
     ]
    }
   ],
   "source": [
    "ash_rehan = ash['jahed']\n",
    "print (ash_rehan)"
   ]
  },
  {
   "cell_type": "code",
   "execution_count": 44,
   "metadata": {},
   "outputs": [
    {
     "name": "stdout",
     "output_type": "stream",
     "text": [
      "124\n"
     ]
    }
   ],
   "source": [
    "ash_rehan= ash ['farzana']\n",
    "\n",
    "print (ash_rehan)"
   ]
  },
  {
   "cell_type": "code",
   "execution_count": 48,
   "metadata": {},
   "outputs": [
    {
     "name": "stdout",
     "output_type": "stream",
     "text": [
      "4198\n"
     ]
    }
   ],
   "source": [
    "ash_reh= ash['shape']\n",
    "print( ash_reh)"
   ]
  },
  {
   "cell_type": "code",
   "execution_count": 49,
   "metadata": {},
   "outputs": [],
   "source": [
    "p = ash.keys()\n",
    "pm= sorted(p)\n",
    "pmm= ash. values()"
   ]
  },
  {
   "cell_type": "markdown",
   "metadata": {},
   "source": [
    "Printing the keys , sorting and printing values."
   ]
  },
  {
   "cell_type": "code",
   "execution_count": 50,
   "metadata": {},
   "outputs": [
    {
     "name": "stdout",
     "output_type": "stream",
     "text": [
      "dict_keys(['jack ', 'shape', 'habib', 'jahed', 'farzana'])\n",
      "['farzana', 'habib', 'jack ', 'jahed', 'shape']\n",
      "dict_values([4098, 4198, 114, 128, 124])\n"
     ]
    }
   ],
   "source": [
    "print (p)\n",
    "print (pm)\n",
    "print (pmm)"
   ]
  },
  {
   "cell_type": "markdown",
   "metadata": {},
   "source": [
    "# If Statement\n"
   ]
  },
  {
   "cell_type": "markdown",
   "metadata": {},
   "source": [
    "Perhaps the most well known conditional statement type is the if the statement. For example, "
   ]
  },
  {
   "cell_type": "code",
   "execution_count": 51,
   "metadata": {},
   "outputs": [
    {
     "name": "stdout",
     "output_type": "stream",
     "text": [
      "x = 9 is positive\n"
     ]
    }
   ],
   "source": [
    "if x < 0 :\n",
    "    print('x =', x, 'is negative')\n",
    "elif x == 0:\n",
    "    print('x =', x, 'is zero')\n",
    "else:\n",
    "    print('x =', x, 'is positive')\n",
    "    "
   ]
  },
  {
   "cell_type": "markdown",
   "metadata": {},
   "source": [
    "assigning a value to the variable x and following the result of the statement."
   ]
  },
  {
   "cell_type": "code",
   "execution_count": 52,
   "metadata": {},
   "outputs": [
    {
     "name": "stdout",
     "output_type": "stream",
     "text": [
      "x = 5 is positive\n"
     ]
    }
   ],
   "source": [
    "x = 5\n",
    "\n",
    "if x < 0 :\n",
    "    print('x =', x, 'is negative')\n",
    "elif x == 0:\n",
    "    print('x =', x, 'is zero')\n",
    "else:\n",
    "    print('x =', x, 'is positive')"
   ]
  },
  {
   "cell_type": "markdown",
   "metadata": {},
   "source": [
    "Important! The main particularity of the Python syntax is that the scope of the different structures (functions, for, if, while, etc…) is defined by the indentation, not by curly braces {}. As long as the code stays at the same level, it is in the same scope:"
   ]
  },
  {
   "cell_type": "code",
   "execution_count": 53,
   "metadata": {},
   "outputs": [
    {
     "name": "stdout",
     "output_type": "stream",
     "text": [
      "X is now positive\n"
     ]
    }
   ],
   "source": [
    "if x<0:\n",
    "    print(\"x is negative\")\n",
    "    \n",
    "elif x==0:\n",
    "    print (\"x is now positive\")\n",
    "    \n",
    "else:\n",
    "    print(\"X is now positive\")"
   ]
  },
  {
   "cell_type": "markdown",
   "metadata": {},
   "source": [
    "A reasonable choice is to use four spaces for the indentation instead of tabs (configure your text editor if you are not using Jupyter).\n",
    "\n",
    "When the scope is terminated, you need to come back at exactly the same level of indentation. Try this misaligned structure and observe what happens:"
   ]
  },
  {
   "cell_type": "markdown",
   "metadata": {},
   "source": [
    "# For LOOPS"
   ]
  },
  {
   "cell_type": "code",
   "execution_count": 64,
   "metadata": {},
   "outputs": [
    {
     "name": "stdout",
     "output_type": "stream",
     "text": [
      "apple 5\n",
      "mango 5\n",
      "guava 5\n",
      "berry 5\n"
     ]
    }
   ],
   "source": [
    "fruits=['apple',  'mango','guava','berry']\n",
    "\n",
    "for i in fruits:\n",
    "    print(i, len(i))"
   ]
  },
  {
   "cell_type": "markdown",
   "metadata": {},
   "source": [
    "For itertaing a sequence of number , range function is so useful . for example:"
   ]
  },
  {
   "cell_type": "code",
   "execution_count": 55,
   "metadata": {},
   "outputs": [
    {
     "name": "stdout",
     "output_type": "stream",
     "text": [
      "0\n",
      "1\n",
      "2\n",
      "3\n",
      "4\n",
      "5\n",
      "6\n",
      "7\n",
      "8\n",
      "9\n"
     ]
    }
   ],
   "source": [
    "for i in range(10):\n",
    "    print (i)"
   ]
  },
  {
   "cell_type": "code",
   "execution_count": 68,
   "metadata": {},
   "outputs": [
    {
     "name": "stdout",
     "output_type": "stream",
     "text": [
      "mango\n",
      "berry\n"
     ]
    }
   ],
   "source": [
    "for i in range(1,4,2):\n",
    "    print (fruits[i])"
   ]
  },
  {
   "cell_type": "markdown",
   "metadata": {},
   "source": [
    "to get index number and value at a same time , use enumerate function."
   ]
  },
  {
   "cell_type": "code",
   "execution_count": 65,
   "metadata": {},
   "outputs": [
    {
     "name": "stdout",
     "output_type": "stream",
     "text": [
      "0 apple\n",
      "1 mango\n",
      "2 guava\n",
      "3 berry\n"
     ]
    }
   ],
   "source": [
    "for i, val in enumerate (fruits):\n",
    "    print (i, val)"
   ]
  },
  {
   "cell_type": "markdown",
   "metadata": {},
   "source": [
    "To get items and values, items() function is quite handy. "
   ]
  },
  {
   "cell_type": "code",
   "execution_count": 66,
   "metadata": {},
   "outputs": [
    {
     "name": "stdout",
     "output_type": "stream",
     "text": [
      "jack  4098\n",
      "shape 4198\n",
      "habib 114\n",
      "jahed 128\n",
      "farzana 124\n"
     ]
    }
   ],
   "source": [
    "for key,value in ash.items():\n",
    "    print (key,value)"
   ]
  },
  {
   "cell_type": "code",
   "execution_count": null,
   "metadata": {},
   "outputs": [],
   "source": []
  }
 ],
 "metadata": {
  "kernelspec": {
   "display_name": "Python 3",
   "language": "python",
   "name": "python3"
  },
  "language_info": {
   "codemirror_mode": {
    "name": "ipython",
    "version": 3
   },
   "file_extension": ".py",
   "mimetype": "text/x-python",
   "name": "python",
   "nbconvert_exporter": "python",
   "pygments_lexer": "ipython3",
   "version": "3.8.3"
  }
 },
 "nbformat": 4,
 "nbformat_minor": 4
}
